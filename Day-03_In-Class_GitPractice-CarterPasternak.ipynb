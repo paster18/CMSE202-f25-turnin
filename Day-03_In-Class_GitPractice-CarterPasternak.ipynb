{
 "cells": [
  {
   "cell_type": "markdown",
   "metadata": {
    "pycharm": {
     "name": "#%% md\n"
    }
   },
   "source": [
    "# In-Class Assignment: Practice with Git and GitHub\n",
    "# Day 3 \n",
    "# CMSE 202\n",
    "\n",
    "### <p style=\"text-align: right;\"> &#9989; Carter</p>\n",
    "#### <p style=\"text-align: right;\"> &#9989; Paxton, Joe, Daniel</p>\n",
    "\n",
    "<div align=\"left\">\n",
    "<img src=\"https://git-scm.com/images/logos/downloads/Git-Logo-1788C.png\" width=250>\n",
    "<img src=\"https://miro.medium.com/max/719/1*WaaXnUvhvrswhBJSw4YTuQ.png\" width=210>\n",
    "</div>"
   ]
  },
  {
   "cell_type": "markdown",
   "metadata": {
    "pycharm": {
     "name": "#%% md\n"
    }
   },
   "source": [
    "## Learning goals for today\n",
    "\n",
    "By the end of class you should:\n",
    "\n",
    "1. Be a bit more comfortable using `git` on the commandline so that you can clone and modify repositories\n",
    "2. Be able to create a repository on GitHub, clone it to your computer, and add, modify, and push changes to the repository. You should also be able to pull changes made by someone else.\n",
    "3. Understand how to give other people access to your GitHub repositories so that they can make changes as well.\n",
    "\n",
    "## Agenda for today:\n",
    "\n",
    "1. [Review of pre-class assignment: thinking about version control and git](#review)\n",
    "1. [Reference guide for git commands](#reference-guide)\n",
    "1. [Practice downloading and exploring examples using git](#git-cloning)\n",
    "1. [Let's \"Git\" practicing: setting up and managing a new GitHub repository](#git-practice)\n",
    "\n",
    "### Assignment instructions\n",
    "\n",
    "Work through the notebook with your group. Making sure to write all necessary code and answer any questions. Do your best to finish the assignment, but it's OK if you don't make it to the end.\n",
    "\n",
    "**This assignment is due by the end of class,** and should be uploaded into the appropriate \"In-Class assignments\" submission folder.  Submission instructions can be found at the end of the notebook."
   ]
  },
  {
   "cell_type": "markdown",
   "metadata": {
    "pycharm": {
     "name": "#%% md\n"
    }
   },
   "source": [
    "----\n",
    "<a id=\"review\"></a>\n",
    "## 1. Review of pre-class assignment: thinking about version control and git\n",
    "\n",
    "Did anyone have any specific issues with the pre-class assignment?\n",
    "\n",
    "Let's take a moment to highlight some key concepts. **Discuss with your table** the following prompts and write down a brief definition of each of these concepts.\n",
    "\n",
    "**If you don't feel like you have good working definitions yet, try doing a quick internet search to see if you can find a definition that makes sense to you.**\n",
    "\n",
    "**&#9989; 1.1:** Discuss what we are referring to when we talk about a code \"repository\"."
   ]
  },
  {
   "cell_type": "markdown",
   "metadata": {
    "pycharm": {
     "name": "#%% md\n"
    }
   },
   "source": [
    "<font size=+3>&#9998;</font> A repository acts as a directory, but it is editable and accessable by multiple people."
   ]
  },
  {
   "cell_type": "markdown",
   "metadata": {
    "pycharm": {
     "name": "#%% md\n"
    }
   },
   "source": [
    "**&#9989; 1.2:** Discuss what we mean when we talk about \"version history\" vs \"version control\""
   ]
  },
  {
   "cell_type": "markdown",
   "metadata": {
    "pycharm": {
     "name": "#%% md\n"
    }
   },
   "source": [
    "<font size=+3>&#9998;</font> Version history is old versions of code/projects that you are able to view and access easily. Version control is the ability to change the version of code in a repository back to old versions of code."
   ]
  },
  {
   "cell_type": "markdown",
   "metadata": {
    "pycharm": {
     "name": "#%% md\n"
    }
   },
   "source": [
    "**&#9989; 1.3:** Discuss why having a version control tool like `git` can be useful"
   ]
  },
  {
   "cell_type": "markdown",
   "metadata": {
    "pycharm": {
     "name": "#%% md\n"
    }
   },
   "source": [
    "<font size=+3>&#9998;</font> Version control is important especially when working as a group, because you are able to go back and check what may have went wrong with code if new pushed versions are not working. Being able to go back will allow you to see what potentially you may be able to fix or who broke it"
   ]
  },
  {
   "cell_type": "markdown",
   "metadata": {
    "pycharm": {
     "name": "#%% md\n"
    }
   },
   "source": [
    "**&#9989; 1.4:** Discuss the purpose/utility of the `git clone` command"
   ]
  },
  {
   "cell_type": "markdown",
   "metadata": {
    "pycharm": {
     "name": "#%% md\n"
    }
   },
   "source": [
    "<font size=+3>&#9998;</font> Git clone is important because you can use it to copy repositories that are public online and with these you can try to look at code to learn from it and learn how to be better at coding down the line."
   ]
  },
  {
   "cell_type": "markdown",
   "metadata": {
    "pycharm": {
     "name": "#%% md\n"
    }
   },
   "source": [
    "----\n",
    "<a id=\"reference-guide\"></a>\n",
    "## 2. Reference guide for `git` commands\n",
    "In class we will be exploring `git` and some of the most common commands. Note there are a lot of other commands for using `git` as it is a very powerful tool.  However, we can't cover everything so this list just provides the most basic commands that let you create and contribute to a repository."
   ]
  },
  {
   "cell_type": "markdown",
   "metadata": {
    "pycharm": {
     "name": "#%% md\n"
    }
   },
   "source": [
    "### Checking out a git repository\n",
    "\n",
    "You've reviewed this one and the pre-class assignment and talked about it with your group.  You need a URL for the repository. You also need to have permissions to access the repository.  If the repository is public there is no problem. If the repository is private you will need a password, \"personal access token\", or may need to set up an ssh key, which we may talk about at a later time. \n",
    "\n",
    "* **git clone URL** - Check out initial git repository"
   ]
  },
  {
   "cell_type": "markdown",
   "metadata": {
    "pycharm": {
     "name": "#%% md\n"
    }
   },
   "source": [
    "### Creating a new git repository\n",
    "\n",
    "Creating a local/empty repository is easy. You can just use the \"`git init`\" command. Just make sure you run the command in the directory that you want to turn into a repository. \n",
    "\n",
    "* **git init .** - Create a new/empty repository. (the \"`.`\" is important!)\n",
    "\n",
    "This only creates a local git repository. To sync this repository with a server (GitLab or GitHub) you need to create a \"new project\" on the website and follow the provided directions for syncing your local repository with the remote one."
   ]
  },
  {
   "cell_type": "markdown",
   "metadata": {
    "pycharm": {
     "name": "#%% md\n"
    }
   },
   "source": [
    "### Pulling in changes from the server. \n",
    "\n",
    "You got a glimpsed of this in the pre-class assignment and we'll practice using it today. You can just run the \"`git pull`\" command to pull from the default repository: \n",
    "\n",
    "* **git pull** - Download changes from the central repository.\n",
    "\n",
    "Or, if you want to pull from a different repository, you can specific the repository path:\n",
    "\n",
    "* **git pull < path to remote repository >** - Download changes from another repository.\n",
    "\n",
    "*NOTE*: `git pull` can be tricky! If you have modified any files and not committed them, those will be changed by the `git pull`.  We'll learn more information about merging in `git` later on."
   ]
  },
  {
   "cell_type": "markdown",
   "metadata": {
    "pycharm": {
     "name": "#%% md\n"
    }
   },
   "source": [
    "### Adding and Commiting a change\n",
    "\n",
    "The most common activity on a `git` repository is commiting a change.  Typically you are either adding a new file or changing an existing file.  The steps I almost always use are as follows:\n",
    "\n",
    "* **git status** - check to see what files are different\n",
    "    * Existing files that have been changed will be listed under \"Changes not staged for commit:\"\n",
    "    * New files that have not yet been added will be listed under \"Untracked files:\"\n",
    "* **git add filename** - Add new file(s) or changed file(s) to the current commit.\n",
    "* **git status** - check to make sure the files are included in the next commit. \n",
    "    * These files will be listed under \"Changes to be committed:\"\n",
    "* **git commit -m \"Message about the changes\"** - Commit the changes to the repository while providing a description of the changes using the `-m` flag.  You are now tracking the changes locally.\n",
    "* **git commit -a -m Message about the changes\"** - Add modified files for staging with the `-a` flag *and* commit them with a message (`-m`) all in one command.\n",
    "* **git push** - Push all committed changes the changes to the server.\n",
    "\n",
    "**Some guidelines:**  \n",
    "* Commit early and often. \n",
    "* Do not commit binary files (unless you really mean it)\n",
    "* To not \"`push`\" any changes that break something that was working."
   ]
  },
  {
   "cell_type": "markdown",
   "metadata": {
    "pycharm": {
     "name": "#%% md\n"
    }
   },
   "source": [
    "---\n",
    "<a id=\"git-cloning\"></a>\n",
    "## 3. Practice downloading and exploring examples using ```git```\n",
    "\n",
    "For this section, you're going to practice cloning a variety of repositories from varying locations and use some of your new command line and `git` skills to poke around and see what the repositories contain. When you run into issues, reach out to your instructors and talk with your group."
   ]
  },
  {
   "cell_type": "markdown",
   "metadata": {
    "pycharm": {
     "name": "#%% md\n"
    }
   },
   "source": [
    "### 3.1 Clone repositories from Github\n",
    "The **[GitHub](https://github.com)** website that has massive collection of publicly availabe code and Jupyter-based examples.  We are going to download a couple of examples, see if we can get them working, and explore them a bit with our new `git` skills:\n",
    "\n",
    "#### Setting up a GitHub account\n",
    "\n",
    "If you haven't already, you need to set up an account on [GitHub](https://github.com/). Go to [https://github.com/](https://github.com/) and sign up for an account **using your \"@msu.edu\" email address**. For consistency, it is also useful if you make your username match your MSU NetID. \n",
    "\n",
    "*Note: After creating this account and when you start using git, you may notice that you will need to log into your github account. There should be prompts that come up when first trying to use `git`. However, if they do not pop-up, you will may need to add your account information manually. You can do this by the commands found below*\n",
    "``` bash\n",
    "git config --global user.name \"Your name here\"\n",
    "git config --global user.email \"your_email@example.com\"\n",
    "```\n",
    "\n",
    "Hopefully you'be got everything set up on Github, let's dive in!"
   ]
  },
  {
   "cell_type": "markdown",
   "metadata": {
    "pycharm": {
     "name": "#%% md\n"
    }
   },
   "source": [
    "## &#128721; STOP\n",
    "\n",
    "![check](https://media.giphy.com/media/9S76AryDeMcq4/giphy.gif) \n",
    "\n",
    "\n",
    "**&#9989; 3.1.1 Do This** Make a directory called \"`repositories`\" in your \"`CMSE202`\" folder (if you haven't already done so). Go into the \"`repositories`\" directory.\n",
    "\n",
    "\n",
    "**&#9989; Then Do This** Now run the following command:  \n",
    "\n",
    "``` bash\n",
    "git clone https://github.com/fperez/science-journal-demo\n",
    "```\n",
    "\n",
    "**&#9989; 3.1.2:** Take a second and look through this `git` repository. What does this repo do? Discuss with your groupmates."
   ]
  },
  {
   "cell_type": "markdown",
   "metadata": {
    "pycharm": {
     "name": "#%% md\n"
    }
   },
   "source": [
    "<font size=+3>&#9998;</font> This repo establishes an experiment for looking at ambient light using an android phone"
   ]
  },
  {
   "cell_type": "markdown",
   "metadata": {
    "pycharm": {
     "name": "#%% md\n"
    }
   },
   "source": [
    "**&#9989; 3.1.3:** As a group, brainstorm things you could do with the tools provided in the \"science-journal\" demo.  "
   ]
  },
  {
   "cell_type": "markdown",
   "metadata": {
    "pycharm": {
     "name": "#%% md\n"
    }
   },
   "source": [
    "<font size=+3>&#9998;</font> you could use the tools provided in this demo to create or model an experiment after it"
   ]
  },
  {
   "cell_type": "markdown",
   "metadata": {
    "pycharm": {
     "name": "#%% md\n"
    }
   },
   "source": [
    "**&#9989; 3.1.4:** Try using `git log` to explore the version history of this repository (it's pretty short). What information does `git log` provide you with?"
   ]
  },
  {
   "cell_type": "markdown",
   "metadata": {
    "pycharm": {
     "name": "#%% md\n"
    }
   },
   "source": [
    "<font size=+3>&#9998;</font>  Git log shows who added what files, what files were added, what day they were added, what year, and what time they wre added."
   ]
  },
  {
   "cell_type": "markdown",
   "metadata": {
    "pycharm": {
     "name": "#%% md\n"
    }
   },
   "source": [
    "### 3.2 Finding and working with repos on your own \n",
    "\n",
    "**&#9989; 3.2.1** - Find and download the **Neural-Networks-Demystified** git repository into your repositories directory. **What command did you use to download the repository?**"
   ]
  },
  {
   "cell_type": "markdown",
   "metadata": {
    "pycharm": {
     "name": "#%% md\n"
    }
   },
   "source": [
    "<font size=+3>&#9998;</font>  git clone "
   ]
  },
  {
   "cell_type": "markdown",
   "metadata": {
    "pycharm": {
     "name": "#%% md\n"
    }
   },
   "source": [
    "**&#9989; 3.2.2**: What is the purpose of this repository? Again, discuss with your group."
   ]
  },
  {
   "cell_type": "markdown",
   "metadata": {
    "pycharm": {
     "name": "#%% md\n"
    }
   },
   "source": [
    "<font size=+3>&#9998;</font>  this repo is to help learn about neural networks and to teach about how to use them/make them"
   ]
  },
  {
   "cell_type": "markdown",
   "metadata": {
    "pycharm": {
     "name": "#%% md\n"
    }
   },
   "source": [
    "**&#9989; 3.2.3**: Who is the author of this repository and where are they located? How did you figure this out?"
   ]
  },
  {
   "cell_type": "markdown",
   "metadata": {
    "pycharm": {
     "name": "#%% md\n"
    }
   },
   "source": [
    "<font size=+3>&#9998;</font>  The author is Stephen Welch, he is from Charlotte NC. I found it on his GitHub page."
   ]
  },
  {
   "cell_type": "markdown",
   "metadata": {
    "pycharm": {
     "name": "#%% md\n"
    }
   },
   "source": [
    "**&#9989; 3.2.4**: Use `git log` again to determine when this repository was last updated."
   ]
  },
  {
   "cell_type": "markdown",
   "metadata": {
    "pycharm": {
     "name": "#%% md\n"
    }
   },
   "source": [
    "<font size=+3>&#9998;</font>  It was last updated march 9 202."
   ]
  },
  {
   "cell_type": "markdown",
   "metadata": {
    "pycharm": {
     "name": "#%% md\n"
    }
   },
   "source": [
    "### Reflecting on accessing publicly available git repositories\n",
    "\n",
    "As you move forward through the course, remember that the internet has a wealth of information and interesting code. When you embark on a new project, it can be worth hunting around to see if someone has some something similar that you can leverage to accomplish your goals. However, any time you make use of someone else's publicly available code, **make sure to cite them in your code and link back to the original source!** Failing to give credit where credit is due is not only considered plagiarism but goes against the ideal ethics for a productive open-source code community."
   ]
  },
  {
   "cell_type": "markdown",
   "metadata": {
    "pycharm": {
     "name": "#%% md\n"
    }
   },
   "source": [
    "----\n",
    "<a id=\"git-practice\"></a>\n",
    "## 4. Let's \"Git\" practicing: setting up and managing a new GitHub repository \n",
    "\n",
    "To start out on this activity, you'll do a bit of work individually to set up, clone, modify, and push to a [GitHub](https://github.com)-hosted git repository that you are the owner of. By going through this process, you'll be continuing to play around with Git and to get some practice for when you need to interact with GitHub repositories in the future, including for your group project this semester!"
   ]
  },
  {
   "cell_type": "markdown",
   "metadata": {
    "pycharm": {
     "name": "#%% md\n"
    }
   },
   "source": [
    "### 4.1 Building a testing repo\n",
    "\n",
    "&#9989; **4.1.1:** Go to [https://github.com/]() individually create a new **private** git repository. Note that all GitHub repositories will default to being public, but for right now we want to create a sandbox for you to play in that isn't shared to the whole world :)\n",
    "\n",
    "Call this repository `USERNAME_git_testing` where `USERNAME` is replaced by your MSU NetID (the part of your email address before the \"`@`\").\n",
    "\n",
    "You should also initialize your repository with a \"README\" file - you'll be editing that momentarily."
   ]
  },
  {
   "cell_type": "markdown",
   "metadata": {
    "pycharm": {
     "name": "#%% md\n"
    }
   },
   "source": [
    "<font size=+3>&#9998;</font> I had no issues"
   ]
  },
  {
   "cell_type": "markdown",
   "metadata": {
    "pycharm": {
     "name": "#%% md\n"
    }
   },
   "source": [
    "&#9989; **4.1.2:** Clone this new repository into your `~/CMSE202/repositories` directory.\n",
    "\n",
    "### MAKE SURE YOU HAVE YOUR PERSONAL ACCESS TOKEN.\n",
    "\n",
    "Information on how to get your PAT can be found in the pre-class assignment (there is a video that guides you through the process)."
   ]
  },
  {
   "cell_type": "markdown",
   "metadata": {
    "pycharm": {
     "name": "#%% md\n"
    }
   },
   "source": [
    "<font size=+3>&#9998;</font> I had no issues"
   ]
  },
  {
   "cell_type": "markdown",
   "metadata": {
    "pycharm": {
     "name": "#%% md\n"
    }
   },
   "source": [
    "&#9989; **4.1.3:** Once you've cloned the repository, open the \"`README.md`\" file that should have been created inside of the repository folder when you set it up on GitHub. Add the following information to the README file:\n",
    "\n",
    "* Name\n",
    "* Email Address\n",
    "* What is your major? \n",
    "* What year are you in school?\n",
    "* Where are you from?\n",
    "* What is your programming background?\n",
    "\n",
    "**Note**: The README is a Markdown file, so the same techniques for formatting the text that work in Jupyter notebooks will also work in this file, but you won't see the formatting until you push it back to GitHub.\n"
   ]
  },
  {
   "cell_type": "markdown",
   "metadata": {
    "pycharm": {
     "name": "#%% md\n"
    }
   },
   "source": [
    "<font size=+3>&#9998;</font> Note any problems you had with the above step (or any questions) here. Check in with your group to see if they can help troubleshoot any issues you run into."
   ]
  },
  {
   "cell_type": "markdown",
   "metadata": {
    "pycharm": {
     "name": "#%% md\n"
    }
   },
   "source": [
    "&#9989; **4.1.4:** `commit` these changes to your repository. Check your commits with `git log`. Finally, `push` the changes back to the central repository on GitHub. "
   ]
  },
  {
   "cell_type": "markdown",
   "metadata": {
    "pycharm": {
     "name": "#%% md\n"
    }
   },
   "source": [
    "<font size=+3>&#9998;</font> Note any problems you had with the above step (or any questions) here. Check in with your group to see if they can help troubleshoot any issues you run into."
   ]
  },
  {
   "cell_type": "markdown",
   "metadata": {
    "pycharm": {
     "name": "#%% md\n"
    }
   },
   "source": [
    "&#9989; **4.1.5:** Go check the GitHub website for your new repository and confirm that the changes to the README file show up -- they should be on the homepage for your repository now."
   ]
  },
  {
   "cell_type": "markdown",
   "metadata": {
    "pycharm": {
     "name": "#%% md\n"
    }
   },
   "source": [
    "<font size=+3>&#9998;</font> Note any problems you had with the above step (or any questions) here. Check in with your group to see if they can help troubleshoot any issues you run into."
   ]
  },
  {
   "cell_type": "markdown",
   "metadata": {
    "pycharm": {
     "name": "#%% md\n"
    }
   },
   "source": [
    "### 4.2 Sharing repos\n",
    "\n",
    "&#9989; **4.2.1:** Create a new file in your repository and call it `group_information.md`. To start the file, add a Markdown heading at the top like so:\n",
    "\n",
    "``` markdown\n",
    "# Group member names and information\n",
    "```"
   ]
  },
  {
   "cell_type": "markdown",
   "metadata": {
    "pycharm": {
     "name": "#%% md\n"
    }
   },
   "source": [
    "<font size=+3>&#9998;</font> Note any problems you had with the above step (or any questions) here. Check in with your group to see if they can help troubleshoot any issues you run into."
   ]
  },
  {
   "cell_type": "markdown",
   "metadata": {
    "pycharm": {
     "name": "#%% md\n"
    }
   },
   "source": [
    "&#9989; **4.2.2:** Add and commit this new file to your repository and push it back up to GitHub (confirm that it shows up on the web once you've done this)."
   ]
  },
  {
   "cell_type": "markdown",
   "metadata": {
    "pycharm": {
     "name": "#%% md\n"
    }
   },
   "source": [
    "<font size=+3>&#9998;</font> Note any problems you had with the above step (or any questions) here. Check in with your group to see if they can help troubleshoot any issues you run into."
   ]
  },
  {
   "cell_type": "markdown",
   "metadata": {
    "pycharm": {
     "name": "#%% md\n"
    }
   },
   "source": [
    "&#9989; **4.2.3:** Share your GitHub username with your group members and ask your group members for their usernames as well. Once you have their usernames, you need to add them as collaborators on your new repository. (If you're unsure of how to do this, try googling it!)"
   ]
  },
  {
   "cell_type": "markdown",
   "metadata": {
    "pycharm": {
     "name": "#%% md\n"
    }
   },
   "source": [
    "<font size=+3>&#9998;</font> Note any problems you had with the above step (or any questions) here. Check in with your group to see if they can help troubleshoot any issues you run into."
   ]
  },
  {
   "cell_type": "markdown",
   "metadata": {
    "pycharm": {
     "name": "#%% md\n"
    }
   },
   "source": [
    "&#9989; **4.2.4:** Share a direct link to your GitHub repository so that your group mates can access it easily. **You can share his information by starting a group chat on Teams**. Then, ask your group members to try cloning your repository."
   ]
  },
  {
   "cell_type": "markdown",
   "metadata": {
    "pycharm": {
     "name": "#%% md\n"
    }
   },
   "source": [
    "<font size=+3>&#9998;</font> Note any problems you had with the above step (or any questions) here. Check in with your group to see if they can help troubleshoot any issues you run into."
   ]
  },
  {
   "cell_type": "markdown",
   "metadata": {
    "pycharm": {
     "name": "#%% md\n"
    }
   },
   "source": [
    "&#9989; **4.2.5** Every group member should add their name and MSU email address to the `group_information.md` file. Save the file and then **commit your changes**."
   ]
  },
  {
   "cell_type": "markdown",
   "metadata": {
    "pycharm": {
     "name": "#%% md\n"
    }
   },
   "source": [
    "<font size=+3>&#9998;</font> Note any problems you had with the above step (or any questions) here. Check in with your group to see if they can help troubleshoot any issues you run into."
   ]
  },
  {
   "cell_type": "markdown",
   "metadata": {
    "pycharm": {
     "name": "#%% md\n"
    }
   },
   "source": [
    "&#9989; **4.2.6:** Try `push`ing the changes you've made to your group members' repositories so that they get your contact information. \n",
    "\n",
    "**NOTE**: *You might get a message from `git` that your attempt to push changes has been rejected. This tends to happen if someone else pushes changes before you did. In a first attempt to resolve this, you should do a `git pull` to see if you can successfully merge their changes with your own. If this is successful, you should then be able to push your changes. Sometimes, however, you'll get a \"merge conflict\" which is an indication that your changes are crashing into someone else changes. This is a bit of a teaser for next class; for now, try your best to make sense of what a merge conflict is and talk things through with your group, ask instructors for help, and consult the internet.*"
   ]
  },
  {
   "cell_type": "markdown",
   "metadata": {
    "pycharm": {
     "name": "#%% md\n"
    }
   },
   "source": [
    "<font size=+3>&#9998;</font> Note any problems you had with the above step (or any questions) here. Check in with your group to see if they can help troubleshoot any issues you run into."
   ]
  },
  {
   "cell_type": "markdown",
   "metadata": {
    "pycharm": {
     "name": "#%% md\n"
    }
   },
   "source": [
    "&#9989; **4.2.7:** Do a `git pull` for your original repository so that you have the contact information from your group members.  If done correctly, eventually each repository will have the names and emails for all of the team members in the `group_information.md` file. Be patient at this point, getting used to working collaborative on GitHub repositories takes time!  "
   ]
  },
  {
   "cell_type": "markdown",
   "metadata": {
    "pycharm": {
     "name": "#%% md\n"
    }
   },
   "source": [
    "<font size=+3>&#9998;</font> Note any problems you had with the above step (or any questions) here. Check in with your group to see if they can help troubleshoot any issues you run into."
   ]
  },
  {
   "cell_type": "markdown",
   "metadata": {},
   "source": [
    "---\n",
    "### Wrapping up\n",
    "\n",
    "Once everyone has managed to set up their own repository and has successfully added their group members as collaborators, you're done with this activity! If you have extra time, feel free to explore the GitHub website a bit more and see what other features it has to offer. If you have questions about anything that came up during this activity, make sure to ask your instructors about them!"
   ]
  },
  {
   "cell_type": "markdown",
   "metadata": {
    "pycharm": {
     "name": "#%% md\n"
    }
   },
   "source": [
    "---------\n",
    "### Congratulations, you're done with your in-class assignment!\n",
    "\n",
    "Now, you just need to submit this assignment by uploading it to the course <a href=\"https://d2l.msu.edu/\">Desire2Learn</a> web page for today's in-class assignment submission folder. (Don't forget to add all of the appropriate names in the first cell)."
   ]
  },
  {
   "cell_type": "markdown",
   "metadata": {
    "pycharm": {
     "name": "#%% md\n"
    }
   },
   "source": [
    "&#169; Copyright 2025, Department of Computational Mathematics, Science and Engineering at Michigan State University"
   ]
  }
 ],
 "metadata": {
  "anaconda-cloud": {},
  "kernelspec": {
   "display_name": "Python 3 (ipykernel)",
   "language": "python",
   "name": "python3"
  },
  "language_info": {
   "codemirror_mode": {
    "name": "ipython",
    "version": 3
   },
   "file_extension": ".py",
   "mimetype": "text/x-python",
   "name": "python",
   "nbconvert_exporter": "python",
   "pygments_lexer": "ipython3",
   "version": "3.12.4"
  },
  "vscode": {
   "interpreter": {
    "hash": "31f2aee4e71d21fbe5cf8b01ff0e069b9275f58929596ceb00d14d90e3e16cd6"
   }
  },
  "widgets": {
   "application/vnd.jupyter.widget-state+json": {
    "state": {},
    "version_major": 2,
    "version_minor": 0
   }
  }
 },
 "nbformat": 4,
 "nbformat_minor": 4
}
